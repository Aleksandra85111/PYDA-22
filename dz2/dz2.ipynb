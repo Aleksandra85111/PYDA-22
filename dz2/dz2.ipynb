{
 "cells": [
  {
   "cell_type": "markdown",
   "id": "ef7d2b7f",
   "metadata": {},
   "source": [
    "# Задание 1\n"
   ]
  },
  {
   "cell_type": "code",
   "execution_count": 1,
   "id": "9728eed0",
   "metadata": {},
   "outputs": [
    {
     "name": "stdout",
     "output_type": "stream",
     "text": [
      "t\n"
     ]
    }
   ],
   "source": [
    "word = 'testing'\n",
    "if len(word) % 2 ==0:\n",
    "    n = len(word) // 2\n",
    "    print(word[n-1:n+1])\n",
    "else:\n",
    "    n = len(word) // 2\n",
    "    print(word[n])"
   ]
  },
  {
   "cell_type": "markdown",
   "id": "6d5ded26",
   "metadata": {},
   "source": [
    "# Задание 2"
   ]
  },
  {
   "cell_type": "code",
   "execution_count": 2,
   "id": "c6db363c",
   "metadata": {},
   "outputs": [
    {
     "name": "stdout",
     "output_type": "stream",
     "text": [
      "Введите число: 1\n",
      "Введите число: 3\n",
      "Введите число: 5\n",
      "Введите число: 2\n",
      "Введите число: 0\n",
      "Результат: \n",
      "11\n"
     ]
    }
   ],
   "source": [
    "n = 1\n",
    "sum_ = 0\n",
    "while n > 0:\n",
    "    n = int(input('Введите число: '))\n",
    "    sum_ += n\n",
    "print('Результат: ',sum_, sep='\\n')"
   ]
  },
  {
   "cell_type": "markdown",
   "id": "7889d0c5",
   "metadata": {},
   "source": [
    "# Задание 3"
   ]
  },
  {
   "cell_type": "code",
   "execution_count": 3,
   "id": "6ba45dae",
   "metadata": {},
   "outputs": [
    {
     "name": "stdout",
     "output_type": "stream",
     "text": [
      "Идеальные пары: \n",
      "Alex и Emma\n",
      "Arthur и Kate\n",
      "John и Kira\n",
      "Peter и Liza\n",
      "Richard и Trisha\n"
     ]
    }
   ],
   "source": [
    "boys = ['Peter', 'Alex', 'John', 'Arthur', 'Richard']\n",
    "girls = ['Kate', 'Liza', 'Kira', 'Emma', 'Trisha']\n",
    "boys.sort()\n",
    "girls.sort()\n",
    "if len(boys) < len(girls) or len(boys) > len(girls):\n",
    "    print('Внимание, кто-то может остаться без пары!')\n",
    "elif len(boys) == len(girls):\n",
    "    print('Идеальные пары: ')\n",
    "    for i in range(len(girls)):\n",
    "        print(boys[i], 'и', girls[i])      \n"
   ]
  },
  {
   "cell_type": "markdown",
   "id": "7e628ef2",
   "metadata": {},
   "source": [
    "# Задание 4"
   ]
  },
  {
   "cell_type": "code",
   "execution_count": 4,
   "id": "397c34c5",
   "metadata": {},
   "outputs": [
    {
     "name": "stdout",
     "output_type": "stream",
     "text": [
      "Средняя температура:\n",
      "Thailand - 23.9 C\n",
      "Germany - 13.8 C\n",
      "Russia - 3.7 C\n",
      "Poland - 12.0 C\n"
     ]
    }
   ],
   "source": [
    "countries_temperature = [\n",
    "    ['Thailand', [75.2, 77, 78.8, 73.4, 68, 75.2, 77]],\n",
    "    ['Germany', [57.2, 55.4, 59, 59, 53.6]],\n",
    "    ['Russia', [35.6, 37.4, 39.2, 41, 42.8, 39.2, 35.6]],\n",
    "    ['Poland', [50, 50, 53.6, 57.2, 55.4, 55.4]]\n",
    "    ]\n",
    "sum_ = 0\n",
    "print('Средняя температура:')\n",
    "for i in range(len(countries_temperature)):\n",
    "    for j in range(1, len(countries_temperature[i])):\n",
    "        sum_ = 0\n",
    "        for k in range(len(countries_temperature[i][j])):\n",
    "            c = 5/9 * (countries_temperature[i][j][k] - 32)\n",
    "            sum_ += c\n",
    "            mean_ = sum_ / len(countries_temperature[i][j])\n",
    "        print(countries_temperature[i][0], '-', round(mean_, 1), 'C')"
   ]
  },
  {
   "cell_type": "code",
   "execution_count": null,
   "id": "c30214a1",
   "metadata": {},
   "outputs": [],
   "source": []
  }
 ],
 "metadata": {
  "kernelspec": {
   "display_name": "Python 3",
   "language": "python",
   "name": "python3"
  },
  "language_info": {
   "codemirror_mode": {
    "name": "ipython",
    "version": 3
   },
   "file_extension": ".py",
   "mimetype": "text/x-python",
   "name": "python",
   "nbconvert_exporter": "python",
   "pygments_lexer": "ipython3",
   "version": "3.8.8"
  }
 },
 "nbformat": 4,
 "nbformat_minor": 5
}
