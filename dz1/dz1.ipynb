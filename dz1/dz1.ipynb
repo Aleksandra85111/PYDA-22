{
 "cells": [
  {
   "cell_type": "code",
   "execution_count": 4,
   "id": "6360be1b",
   "metadata": {},
   "outputs": [
    {
     "name": "stdout",
     "output_type": "stream",
     "text": [
      "Фраза 1 длиннее фразы 2\n"
     ]
    }
   ],
   "source": [
    "phrase_1 = 'Насколько проще было бы писать программы, если бы не заказчики'\n",
    "phrase_2 = '640Кб должно хватить для любых задач. Билл Гейтс (по легенде)'\n",
    "if len(phrase_1) > len(phrase_2):\n",
    "  print('Фраза 1 длиннее фразы 2')\n",
    "elif len(phrase_1) < len(phrase_2):\n",
    "  print('Фраза 2 длиннее фразы 1')\n",
    "else:\n",
    "  print('Фразы равной длины')"
   ]
  },
  {
   "cell_type": "code",
   "execution_count": 5,
   "id": "07b2f5cf",
   "metadata": {},
   "outputs": [
    {
     "name": "stdout",
     "output_type": "stream",
     "text": [
      "2019\n",
      "Обычный год\n"
     ]
    }
   ],
   "source": [
    "year = int(input())\n",
    "if (year % 4 == 0 and not year % 100 == 0) or year % 400 == 0:\n",
    "  print('Високосный год')\n",
    "else: \n",
    "  print('Обычный год')\n"
   ]
  },
  {
   "cell_type": "code",
   "execution_count": 16,
   "id": "54b89c73",
   "metadata": {},
   "outputs": [
    {
     "name": "stdout",
     "output_type": "stream",
     "text": [
      "Високосный год\n"
     ]
    }
   ],
   "source": [
    "year = 2020\n",
    "if year % 4 == 0:\n",
    "  print('Високосный год')\n",
    "else: \n",
    "  print('Обычный год')"
   ]
  },
  {
   "cell_type": "code",
   "execution_count": 17,
   "id": "85c48e5a",
   "metadata": {},
   "outputs": [
    {
     "name": "stdout",
     "output_type": "stream",
     "text": [
      "Обычный год\n"
     ]
    }
   ],
   "source": [
    "year = 2019\n",
    "if year % 4 == 0:\n",
    "  print('Високосный')\n",
    "else: \n",
    "  print('Обычный год')"
   ]
  },
  {
   "cell_type": "code",
   "execution_count": 3,
   "id": "304cb747",
   "metadata": {},
   "outputs": [
    {
     "name": "stdout",
     "output_type": "stream",
     "text": [
      "Введите день24\n",
      "Введите месяцАпрель\n",
      "Ваш знак зодиака: Телец\n"
     ]
    }
   ],
   "source": [
    "day = int(input('Введите день'))\n",
    "month = input('Введите месяц')         \n",
    "if month == 'Январь':\n",
    "          if 1 <= day <=20:\n",
    "            print('Ваш знак зодиака: Козерог')            \n",
    "          if 21 <= day <=31:\n",
    "            print('Ваш знак зодиака: Водолей')\n",
    "elif month == 'Февраль':\n",
    "          if 1 <= day <=19:\n",
    "            print('Ваш знак зодиака: Водолей')            \n",
    "          if 20 <= day <=29:\n",
    "            print('Ваш знак зодиака: Рыбы')\n",
    "elif month == 'Март':\n",
    "          if 1 <= day <=20:\n",
    "            print('Ваш знак зодиака: Рыбы')            \n",
    "          if 21 <= day <=31:\n",
    "            print('Ваш знак зодиака: Овен')\n",
    "elif month == 'Апрель':\n",
    "          if 1 <= day <=20:\n",
    "            print('Ваш знак зодиака: Овен')            \n",
    "          if 21 <= day <=30:\n",
    "            print('Ваш знак зодиака: Телец')\n",
    "elif month == 'Май':\n",
    "          if 1 <= day <=21:\n",
    "            print('Ваш знак зодиака: Телец')            \n",
    "          if 22 <= day <=31:\n",
    "            print('Ваш знак зодиака: Близнецы')\n",
    "elif month == 'Июнь':\n",
    "          if 1 <= day <=21:\n",
    "            print('Ваш знак зодиака: Близнецы')            \n",
    "          if 22 <= day <=30:\n",
    "            print('Ваш знак зодиака: Рак')\n",
    "elif month == 'Июль':\n",
    "          if 1 <= day <=23:\n",
    "            print('Ваш знак зодиака: Рак')            \n",
    "          if 24 <= day <=31:\n",
    "            print('Ваш знак зодиака: Лев')\n",
    "elif month == 'Август':\n",
    "          if 1 <= day <=23:\n",
    "            print('Ваш знак зодиака: Лев')            \n",
    "          if 24 <= day <=31:\n",
    "            print('Ваш знак зодиака: Дева')\n",
    "elif month == 'Сентябрь':\n",
    "          if 1 <= day <=23:\n",
    "            print('Ваш знак зодиака: Дева')            \n",
    "          if 24 <= day <=30:\n",
    "            print('Ваш знак зодиака: Весы')\n",
    "elif month == 'Октябрь':\n",
    "          if 1 <= day <=23:\n",
    "            print('Ваш знак зодиака: Весы')            \n",
    "          if 22 <= day <=31:\n",
    "            print('Ваш знак зодиака: Скорпион')\n",
    "elif month == 'Ноябрь':\n",
    "          if 1 <= day <=22:\n",
    "            print('Ваш знак зодиака: Скорпион')            \n",
    "          if 23 <= day <=30:\n",
    "            print('Ваш знак зодиака: Стрелец')\n",
    "elif month == 'Декабрь':\n",
    "          if 1 <= day <=21:\n",
    "            print('Ваш знак зодиака: Стрелец')            \n",
    "          if 22 <= day <=31:\n",
    "            print('Ваш знак зодиака: Козерог')\n",
    "           "
   ]
  },
  {
   "cell_type": "code",
   "execution_count": 27,
   "id": "9a2e05c7",
   "metadata": {},
   "outputs": [
    {
     "name": "stdout",
     "output_type": "stream",
     "text": [
      "Коробка №3\n"
     ]
    }
   ],
   "source": [
    "width = 10\n",
    "length = 50\n",
    "height = 15\n",
    "if length >= 200:\n",
    "    print ('Упаковка для лыж')\n",
    "elif width < 15 and length < 15 and height < 15:\n",
    "    print ('Коробка №1')\n",
    "elif 15 < width < 50 or 15 < length < 50 or 15 < height < 50:\n",
    "    print ('Коробка №2')\n",
    "else:\n",
    "    print ('Коробка №3')"
   ]
  },
  {
   "cell_type": "code",
   "execution_count": 7,
   "id": "0cbf1007",
   "metadata": {},
   "outputs": [
    {
     "name": "stdout",
     "output_type": "stream",
     "text": [
      "Введите день24\n",
      "Введите месяцАпрель\n",
      "Ваш знак зодиака: Телец\n"
     ]
    }
   ],
   "source": [
    "day = int(input('Введите день'))\n",
    "month = input('Введите месяц')         \n",
    "if month == 'Январь' and 1 <= day <=20 or month == 'Декабрь' and 22 <= day <=31:\n",
    "            print('Ваш знак зодиака: Козерог')  \n",
    "elif month == 'Январь' and 21 <= day <=31 or month == 'Февраль' and 1 <= day <=19:\n",
    "            print('Ваш знак зодиака: Водолей')\n",
    "elif month == 'Февраль' and 20 <= day <=29 or month == 'Март' and 1 <= day <=20:\n",
    "            print('Ваш знак зодиака: Рыбы') \n",
    "elif month == 'Март' and 21 <= day <=31 or month == 'Апрель' and 1 <= day <=20:\n",
    "            print('Ваш знак зодиака: Овен')\n",
    "elif month == 'Апрель' and 21 <= day <=30 or month == 'Май' and 1 <= day <=21:\n",
    "            print('Ваш знак зодиака: Телец')\n",
    "elif month == 'Май' and 22 <= day <=31 or month == 'Июнь' and 1 <= day <=21:\n",
    "            print('Ваш знак зодиака: Близнецы')\n",
    "elif month == 'Июнь' and 22 <= day <=30 or month == 'Июль' and 1 <= day <=23:\n",
    "            print('Ваш знак зодиака: Рак')\n",
    "elif month == 'Июль' and 24 <= day <=3 or month == 'Август' and 1 <= day <=23:\n",
    "            print('Ваш знак зодиака: Лев')\n",
    "elif month == 'Август' and 24 <= day <=31 or month == 'Сентябрь' and 1 <= day <=23:\n",
    "            print('Ваш знак зодиака: Дева')\n",
    "elif month == 'Сентябрь' and 24 <= day <=30 or month == 'Октябрь' and 1 <= day <=23:\n",
    "            print('Ваш знак зодиака: Весы')\n",
    "elif month == 'Октябрь' and 22 <= day <=31 or month == 'Ноябрь' and 1 <= day <=22:\n",
    "            print('Ваш знак зодиака: Скорпион')\n",
    "elif month == 'Ноябрь' and 23 <= day <=30 or month == 'Декабрь' and 1 <= day <=21:\n",
    "            print('Ваш знак зодиака: Стрелец')\n"
   ]
  },
  {
   "cell_type": "code",
   "execution_count": null,
   "id": "5013f57b",
   "metadata": {},
   "outputs": [],
   "source": []
  }
 ],
 "metadata": {
  "kernelspec": {
   "display_name": "Python 3",
   "language": "python",
   "name": "python3"
  },
  "language_info": {
   "codemirror_mode": {
    "name": "ipython",
    "version": 3
   },
   "file_extension": ".py",
   "mimetype": "text/x-python",
   "name": "python",
   "nbconvert_exporter": "python",
   "pygments_lexer": "ipython3",
   "version": "3.8.8"
  }
 },
 "nbformat": 4,
 "nbformat_minor": 5
}
